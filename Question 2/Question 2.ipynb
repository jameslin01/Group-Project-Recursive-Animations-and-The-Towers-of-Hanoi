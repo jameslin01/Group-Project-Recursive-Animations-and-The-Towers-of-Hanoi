{
 "cells": [
  {
   "cell_type": "markdown",
   "id": "79b4a046",
   "metadata": {},
   "source": [
    "# QUESTION 2"
   ]
  },
  {
   "cell_type": "markdown",
   "id": "8986c490",
   "metadata": {},
   "source": [
    "Import below in order to play functions"
   ]
  },
  {
   "cell_type": "code",
   "execution_count": 4,
   "id": "ce932554",
   "metadata": {},
   "outputs": [
    {
     "name": "stdout",
     "output_type": "stream",
     "text": [
      "pygame 2.3.0 (SDL 2.24.2, Python 3.9.13)\n",
      "Hello from the pygame community. https://www.pygame.org/contribute.html\n"
     ]
    }
   ],
   "source": [
    "import pygame \n",
    "import numpy as np\n",
    "import matplotlib.pyplot as plt"
   ]
  },
  {
   "cell_type": "markdown",
   "id": "fef69aa8-d4c5-41c5-92b8-a8247a00f8f7",
   "metadata": {
    "tags": []
   },
   "source": [
    "### Generating tree data\n",
    "\n",
    "The function below generates data for a tree which is stored as two lists of branches. The first list, trunks represents the trunks of every new generated tree and the second list takes only the end branches. Since every branch in the recursive tree is either an end branch or the trunk of another tree then those two lists suffice.Each value in the trunks list is given by [[[x0,y0],[x1,y1]],d] where (x0,y0) are the start points of the trunk, (x1,y1) are the end points of the branch and d is the thickness of the trunk. This allows us to build a tree with more structure. \n",
    "\n",
    "There is a reference tree at the end of the notebook"
   ]
  },
  {
   "cell_type": "code",
   "execution_count": 5,
   "id": "88709342-c880-4639-a3c4-abb237fb1f9a",
   "metadata": {},
   "outputs": [],
   "source": [
    "def make_tree(depth, branch1, branch_list_end,trunks,\n",
    "                  alpha,beta, rat1 = 0.5, rat2 = 1):\n",
    "    ''' function imputs: depth, branch1, branch_list_end,branch_list\n",
    "    alpha\n",
    "    function recursively generates branches of a tree with \n",
    "    depth takes the depth of tree with a tree with 2 branches having depth 1\n",
    "    and a trunk having depth 0\n",
    "    branch1 takes the x and y coordinates of the trunk of the tree in the form \n",
    "    [[x0,y0],[x1,y1]] \n",
    "    branch_list_end is the list to be modified with the end branches of the tree\n",
    "    trunks is the list to be modified with the non-end branches of the tree\n",
    "    alpha is the angle the branches make with the trunk in radians\n",
    "    beta is the inital angle made with the trunk\n",
    "    rat1 takes a float between 0 and 1 and interprets that as the \n",
    "    distance from point 0 to 2 divided by distance from 0 to 1\n",
    "    rat2 takes a float greater that 0 and interprets that as the ratio in \n",
    "    length between the central branch and the other two \n",
    "    (ie if rat2 = 1 they are the same length, if rat2 = 0.5 the auxillary branches \n",
    "     are half the length of the middle branch\n",
    "    '''\n",
    "    \n",
    "    # Initiate by setting the start and end points of the first branch to variables\n",
    "    (x0,y0) = branch1[0]\n",
    "    (x1,y1) = branch1[1]\n",
    "    \n",
    "    # Base case\n",
    "    # When the depth is zero then the branch is an end branch. \n",
    "    if depth == 0:\n",
    "        branch_list_end.append(branch1)\n",
    "        return None\n",
    "    \n",
    "    else:\n",
    "        # Here calculate the branches \n",
    "        length = np.sqrt((x1 - x0)**2 + (y1 - y0)**2)\n",
    "        # length is the length of the branch given. \n",
    "        auxbran = (1-rat1)*rat2*length\n",
    "        # auxbran is the auxillary branch length\n",
    "        x2 = (x1-x0)*(rat1) + x0\n",
    "        y2 = (y1-y0)*(rat1) + y0\n",
    "        # (x2,y2) is the point from which the branches originate\n",
    "        x3 = auxbran*np.cos(beta - alpha) + x2\n",
    "        y3 = auxbran*np.sin(beta - alpha) + y2\n",
    "        # (x3,y3) is the end point of the right branch\n",
    "        x4 = auxbran*np.cos(beta + alpha) + x2\n",
    "        y4 = auxbran*np.sin(beta + alpha) + y2\n",
    "         # (x4,y4) is the end point of the left branch\n",
    "            \n",
    "        # Then call the function recursively in order to generate branches on those branches\n",
    "        # Middle branch (between points 2 and 1)\n",
    "        # Here beta stays the same as before as the angle between the branch the floor is the same\n",
    "        branch2 = [[x2,y2],[x1,y1]]\n",
    "        make_tree(depth-1, branch2, branch_list_end, \n",
    "                      trunks, alpha, beta)\n",
    "        # Right branch (between points 2 and 3)\n",
    "        # angle between floor and branch is beta - alpha\n",
    "        trunks.append([[[x0,y0],[x2,y2]],depth])\n",
    "        branch3 = [[x2,y2],[x3,y3]]\n",
    "        make_tree(depth-1, branch3, branch_list_end, \n",
    "                      trunks, alpha, beta - alpha )\n",
    "        # Left branch (between points 2 and 4)\n",
    "        # angle between floor and branch is beta + alpha\n",
    "        branch4 = [[x2,y2],[x4,y4]]\n",
    "        make_tree(depth-1, branch4, branch_list_end, trunks, \n",
    "                      alpha, beta + alpha )\n",
    "        \n",
    "        return None \n",
    "    "
   ]
  },
  {
   "cell_type": "markdown",
   "id": "652486be-1169-4c92-9cf0-74e54ff24624",
   "metadata": {},
   "source": [
    "Then here is the function to draw the trees"
   ]
  },
  {
   "cell_type": "code",
   "execution_count": 6,
   "id": "e72d28d5-70cc-4ad9-ade8-4159dbf2eeec",
   "metadata": {},
   "outputs": [],
   "source": [
    "def draw_tree(depth = 7,alpha = np.pi/6, rat1 = 0.5, rat2 = 1, \n",
    "                  speed_factor = 3, thickness = False):\n",
    "    '''\n",
    "    Function that draws tree as an animation. \n",
    "    The depth of the tree (recursion) can be adjusted by entering \n",
    "    a depth integer value as a parameter. \n",
    "    rat1 takes a float between 0 and 1 and interprets that as the \n",
    "\n",
    "    rrat2 takes a float greater that 0 and interprets thats as the ratio in \n",
    "    length between the central branch and the other two \n",
    "    (ie if rat2 = 1 they are the same length, if rat2 = 0.5 the central branches \n",
    "     are half the length of the middle branch)\n",
    "    speed_factor is speed factor\n",
    "    thickness is true when depth can be indicated on the image using width of branches\n",
    "    '''\n",
    "    # Initialise variables\n",
    "    dimensions = (900, 700)\n",
    "    backgroundColour = (255,255,255)\n",
    "    brown, green = (92, 52, 13), (6, 66, 11)\n",
    "    # Here is the first branch(trunk) of the tree\n",
    "    trunk = [[450,500],[450,50]]\n",
    "    min_depth, max_depth = 1, 10\n",
    "    clock = pygame.time.Clock()\n",
    "    warning = \"Depth must be an integer in the interval [1,10]\"\n",
    "\n",
    "    if depth < min_depth: \n",
    "        depth = min_depth\n",
    "        print(warning)\n",
    "        print(\"Using depth {}\".format(min_depth))\n",
    "    if depth > max_depth: \n",
    "        depth = max_depth\n",
    "        print(warning)\n",
    "        print(\"Using depth {}\".format(max_depth))\n",
    "\n",
    "    frames_per_second = 20  + 10 * speed_factor\n",
    "    # Here are lists to be altered by function make_tree\n",
    "    branch_list_end = []\n",
    "    trunks = []\n",
    "    # Here generate tree data from initial branch\n",
    "    make_tree(depth, trunk, branch_list_end, trunks, alpha, -np.pi/2)\n",
    "    pygame.init()\n",
    "    screen = pygame.display.set_mode(dimensions)\n",
    "    caption = 'Fractal Tree            '\n",
    "    caption += '(1)  \\'Space\\' to start or pause    '\n",
    "    caption += '(2)  \\'esc\\' to quit'\n",
    "    caption += '(3) \\'up\\' and \\'down\\' to increase and decrease speed'\n",
    "    pygame.display.set_caption(caption)\n",
    "    pygame.display.flip\n",
    "    \n",
    "    screen.fill(backgroundColour)\n",
    "    \n",
    "    number_of_trunks = len(trunks)\n",
    "    number_of_end_branches = len(branch_list_end)\n",
    "    index = 0\n",
    "    index_end = 0\n",
    "    ending = False\n",
    "    draw_branch = False\n",
    "    keep_running = True\n",
    "    \n",
    "    while keep_running:\n",
    "        for event in pygame.event.get():\n",
    "            if event.type == pygame.KEYDOWN and event.key == pygame.K_ESCAPE:\n",
    "                keep_running = False\n",
    "                pygame.quit()\n",
    "            # Start and pause the animation with the space key \n",
    "            elif event.type == pygame.KEYDOWN and event.key == pygame.K_SPACE:\n",
    "                draw_branch  = not draw_branch \n",
    "            # Speed up animations with up arrow\n",
    "            elif event.type == pygame.KEYDOWN and event.key == pygame.K_UP:\n",
    "                speed_factor = min(speed_factor + 1, 10)\n",
    "                # Ensure speed_factor is less than or equal to 10\n",
    "                frames_per_second = 20 + 10 * speed_factor\n",
    "            elif event.type == pygame.KEYDOWN and event.key == pygame.K_UP:\n",
    "                speed_factor = max(speed_factor - 1, 1)\n",
    "                frames_per_second = 20 + 10 * speed_factor\n",
    "\n",
    "        # Keep draw next tree with index 'index' if not told to pause and not complete\n",
    "        if draw_branch and index  < number_of_trunks :\n",
    "            if thickness:\n",
    "                pygame.draw.line(screen, brown, trunks[index][0][0],\n",
    "                            trunks[index][0][1], trunks[index][1])   \n",
    "            else:\n",
    "                pygame.draw.line(screen, brown, trunks[index][0][0],\n",
    "                            trunks[index][0][1], 1)\n",
    "            # Now update so that latest tree is added \n",
    "            pygame.display.update()\n",
    "            # Pause time before next iteration starts: one clock tick  \n",
    "            clock.tick(frames_per_second)\n",
    "            # Index uptate: index walks through trunks indices\n",
    "            index += 1\n",
    "        if index == number_of_trunks:\n",
    "            ending = True\n",
    "            \n",
    "        if draw_branch and index_end < number_of_end_branches and ending:\n",
    "            pygame.draw.line(screen, green, branch_list_end[index_end][0],\n",
    "                             branch_list_end[index_end][1], 1)\n",
    "            # Now update so that latest branch is added \n",
    "            pygame.display.update()\n",
    "            # Pause time before next iteration starts: one clock tick  \n",
    "            clock.tick(frames_per_second)\n",
    "            # Index uptate: index walks through branch_list_end indices\n",
    "            index_end += 1\n",
    "    pygame.quit()\n",
    "    return None  "
   ]
  },
  {
   "cell_type": "markdown",
   "id": "41ad25be-00db-4176-a3de-ea1300659a08",
   "metadata": {},
   "source": [
    "Then we can generate different types of tree "
   ]
  },
  {
   "cell_type": "code",
   "execution_count": null,
   "id": "b2a4ca13-4d51-49fb-b165-fbd641245fcb",
   "metadata": {},
   "outputs": [],
   "source": [
    "# NORMAL TREE\n",
    "\n",
    "draw_tree(depth = 5,alpha = np.pi/6, rat1 = 0.5, rat2 = 1.5, thickness = False)"
   ]
  },
  {
   "cell_type": "code",
   "execution_count": null,
   "id": "394cb358-e24f-4618-8f53-302b9ed294fd",
   "metadata": {},
   "outputs": [],
   "source": [
    "# SQUARE TREE\n",
    "\n",
    "draw_tree(depth = 6,alpha = np.pi/2, rat1 = 0.4, rat2 = 1, \n",
    "              thickness = False)"
   ]
  },
  {
   "cell_type": "code",
   "execution_count": null,
   "id": "9fe3b39c-87ae-4dc2-9ceb-7002980e05e7",
   "metadata": {},
   "outputs": [],
   "source": [
    "# TRIANGLE TREE\n",
    "\n",
    "draw_tree(depth = 9,alpha = 2*np.pi/3, rat1 = 0.4, rat2 = 1, thickness = False)"
   ]
  },
  {
   "cell_type": "code",
   "execution_count": null,
   "id": "3220ef26",
   "metadata": {},
   "outputs": [],
   "source": [
    "# TREE WITH THICKNESS\n",
    "\n",
    "draw_tree(depth = 6, alpha = np.pi/4, thickness = True)"
   ]
  },
  {
   "cell_type": "code",
   "execution_count": null,
   "id": "51e5b073",
   "metadata": {},
   "outputs": [],
   "source": [
    "draw_tree(depth = 5,alpha = np.pi/6, rat1 = 0.9, rat2 = 1.5,\n",
    "              thickness = False)\n"
   ]
  },
  {
   "cell_type": "markdown",
   "id": "fbc6dd6c",
   "metadata": {},
   "source": [
    "## Reference tree"
   ]
  },
  {
   "cell_type": "markdown",
   "id": "42b261a8",
   "metadata": {},
   "source": [
    "![treereferenceimage](img/treediagram.png)"
   ]
  },
  {
   "cell_type": "code",
   "execution_count": null,
   "id": "91e94bc1",
   "metadata": {},
   "outputs": [],
   "source": []
  }
 ],
 "metadata": {
  "kernelspec": {
   "display_name": "Python 3 (ipykernel)",
   "language": "python",
   "name": "python3"
  },
  "language_info": {
   "codemirror_mode": {
    "name": "ipython",
    "version": 3
   },
   "file_extension": ".py",
   "mimetype": "text/x-python",
   "name": "python",
   "nbconvert_exporter": "python",
   "pygments_lexer": "ipython3",
   "version": "3.9.13"
  }
 },
 "nbformat": 4,
 "nbformat_minor": 5
}
